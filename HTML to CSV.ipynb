{
 "cells": [
  {
   "cell_type": "code",
   "execution_count": 1,
   "id": "b7a5e2c6",
   "metadata": {},
   "outputs": [],
   "source": [
    "from bs4 import BeautifulSoup\n",
    "import pandas as pd"
   ]
  },
  {
   "cell_type": "code",
   "execution_count": 2,
   "id": "bb7c2f8c",
   "metadata": {},
   "outputs": [],
   "source": [
    "HTML = open('To Watch.html', 'r')\n",
    "index = HTML.read()\n",
    "soup = BeautifulSoup(index, 'html.parser')"
   ]
  },
  {
   "cell_type": "code",
   "execution_count": 3,
   "id": "b05b90c6",
   "metadata": {},
   "outputs": [
    {
     "name": "stdout",
     "output_type": "stream",
     "text": [
      "                                                 href\n",
      "0   https://myanimelist.net/anime/49303/Alice_to_T...\n",
      "1   https://myanimelist.net/anime/48832/Cherry_and...\n",
      "2   https://myanimelist.net/anime/49834/Boku_ga_Ai...\n",
      "3   https://myanimelist.net/anime/49835/Kimi_wo_Ai...\n",
      "4   https://myanimelist.net/anime/51307/Bokura_no_...\n",
      "5   https://myanimelist.net/anime/52186/Kin_no_Kun...\n",
      "6   https://myanimelist.net/anime/53849/Kyouki_San...\n",
      "7   https://myanimelist.net/anime/51116/Kagami_no_...\n",
      "8   https://myanimelist.net/anime/47158/Tomodachi_...\n",
      "9      https://myanimelist.net/anime/49743/Tabi_wa_ni\n",
      "10  https://myanimelist.net/anime/49716/Lady_Napoleon\n",
      "11  https://myanimelist.net/anime/41005/Ane_Naru_Mono\n",
      "12  https://myanimelist.net/anime/51817/Watashi_no...\n",
      "13  https://myanimelist.net/anime/52481/Gimai_Seik...\n",
      "14  https://myanimelist.net/anime/486/Kino_no_Tabi...\n",
      "15  https://myanimelist.net/anime/46095/Vivy__Fluo...\n",
      "16  https://myanimelist.net/anime/12437/Yuri_Seiji...\n",
      "17       https://myanimelist.net/anime/36516/Beatless\n",
      "18       https://myanimelist.net/anime/51306/C_Danchi\n",
      "19  https://myanimelist.net/anime/49220/Isekai_Ojisan\n",
      "20  https://myanimelist.net/anime/53680/Pole_Princess\n",
      "21  https://myanimelist.net/anime/53698/World_Dai_...\n",
      "22  https://myanimelist.net/anime/54839/Yoru_no_Ku...\n",
      "23  https://myanimelist.net/anime/51466/Sekai_ga_H...\n",
      "24  https://myanimelist.net/anime/41762/Tenchi_Sou...\n",
      "25  https://myanimelist.net/anime/50796/Kimi_wa_Ho...\n",
      "26  https://myanimelist.net/anime/53163/Kawaisugi_...\n",
      "27  https://myanimelist.net/anime/51815/Kubo-san_w...\n",
      "28  https://myanimelist.net/anime/51105/NieR_Autom...\n",
      "29  https://myanimelist.net/anime/50739/Otonari_no...\n",
      "30  https://myanimelist.net/anime/52173/Koori_Zoku...\n",
      "31  https://myanimelist.net/anime/52082/Shiro_Seij...\n",
      "32  https://myanimelist.net/anime/52578/Boku_no_Ko...\n",
      "33  https://myanimelist.net/anime/52020/Sekai_no_O...\n",
      "34  https://myanimelist.net/anime/54492/Kusuriya_n...\n",
      "35  https://myanimelist.net/anime/2403/Kodomo_no_J...\n",
      "36      https://myanimelist.net/anime/48633/Liar_Liar\n",
      "37              https://myanimelist.net/anime/1084/Is\n",
      "38  https://myanimelist.net/anime/10257/Pretty_Rhy...\n",
      "39  https://myanimelist.net/anime/50416/Skip_to_Lo...\n",
      "40  https://myanimelist.net/anime/39388/Koisuru_As...\n"
     ]
    }
   ],
   "source": [
    "links = pd.DataFrame()\n",
    "links['href'] = None\n",
    "# links['MAL'] = None\n",
    "# print(links)\n",
    "\n",
    "container = soup.find_all(\"a\")\n",
    "for i in container:\n",
    "    s = i['href']\n",
    "    row = [s]\n",
    "#     print(row)\n",
    "    df = pd.DataFrame(row, columns=['href'])\n",
    "    if s.__contains__(\"myanimelist\"):\n",
    "        links = pd.concat([links, df], ignore_index=True)\n",
    "print(links)"
   ]
  },
  {
   "cell_type": "code",
   "execution_count": 4,
   "id": "9b459baa",
   "metadata": {},
   "outputs": [],
   "source": [
    "links.to_csv(path_or_buf='To Watch.csv', index=False)"
   ]
  },
  {
   "cell_type": "code",
   "execution_count": null,
   "id": "57b939a2",
   "metadata": {},
   "outputs": [],
   "source": []
  },
  {
   "cell_type": "code",
   "execution_count": null,
   "id": "30b15901",
   "metadata": {},
   "outputs": [],
   "source": []
  }
 ],
 "metadata": {
  "kernelspec": {
   "display_name": "Python 3 (ipykernel)",
   "language": "python",
   "name": "python3"
  },
  "language_info": {
   "codemirror_mode": {
    "name": "ipython",
    "version": 3
   },
   "file_extension": ".py",
   "mimetype": "text/x-python",
   "name": "python",
   "nbconvert_exporter": "python",
   "pygments_lexer": "ipython3",
   "version": "3.9.12"
  }
 },
 "nbformat": 4,
 "nbformat_minor": 5
}
